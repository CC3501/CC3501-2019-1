{
 "cells": [
  {
   "cell_type": "markdown",
   "metadata": {},
   "source": [
    "# CC3501 - Aux 7: Método de Diferencias Finitas\n",
    "\n",
    "#### **Profesor: Daniel Calderón**\n",
    "#### **Auxiliares: Diego Donoso y Pablo Pizarro**\n",
    "#### **Ayudantes: Francisco Muñoz, Matías Rojas y Sebastián Contreras**\n",
    "##### Fecha: 31/05/2019\n",
    "---\n",
    "#### Objetivos:\n",
    "*\tEjercitar el método de diferencias finitas en una aplicación práctica\n",
    "*   Aprender a escribir ecuaciones en un sistema lineal y a resolverlo con numpy\n",
    "*\tVisualizar la solución utilizando matplotlib/mayavi"
   ]
  },
  {
   "cell_type": "markdown",
   "metadata": {},
   "source": [
    "[Markdowns for Jupyter Notebooks](https://medium.com/ibm-data-science-experience/markdown-for-jupyter-notebooks-cheatsheet-386c05aeebed)\n",
    "\n",
    "_Cuando te enteras de que puedes poner gifs en Notebooks_"
   ]
  },
  {
   "cell_type": "code",
   "execution_count": 1,
   "metadata": {},
   "outputs": [
    {
     "data": {
      "text/html": [
       "<center><img src=\"https://media.giphy.com/media/2xRWvsvjyrO2k/giphy.gif\"></center>"
      ],
      "text/plain": [
       "<IPython.core.display.HTML object>"
      ]
     },
     "execution_count": 1,
     "metadata": {},
     "output_type": "execute_result"
    }
   ],
   "source": [
    "from IPython.display import HTML\n",
    "HTML('<center><img src=\"https://media.giphy.com/media/2xRWvsvjyrO2k/giphy.gif\"></center>')"
   ]
  },
  {
   "cell_type": "markdown",
   "metadata": {},
   "source": [
    "#### Problemas"
   ]
  },
  {
   "cell_type": "markdown",
   "metadata": {},
   "source": [
    "1. Estudie el ejemplo ex_finite_differences.py. La figura ex_finite_differences.png es complementaria a dicha solución."
   ]
  },
  {
   "cell_type": "markdown",
   "metadata": {},
   "source": [
    "_Nota: Se usa comando %load filename para cargar archivo en notebook_"
   ]
  },
  {
   "cell_type": "code",
   "execution_count": 2,
   "metadata": {},
   "outputs": [
    {
     "name": "stdout",
     "output_type": "stream",
     "text": [
      "30 39\n"
     ]
    },
    {
     "data": {
      "image/png": "[encoded data removed]",
      "text/plain": [
       "<Figure size 432x288 with 2 Axes>"
      ]
     },
     "metadata": {
      "needs_background": "light"
     },
     "output_type": "display_data"
    }
   ],
   "source": [
    "# %load ex_finite_differences_laplace_neumann.py\n",
    "%matplotlib inline\n",
    "\"\"\"\n",
    "Daniel Calderon, CC3501, 2019-1\n",
    "Finite Differences for Partial Differential Equations\n",
    "\n",
    "Solving the Laplace equation in 2D with Dirichlet and\n",
    "Neumann border conditions over a square domain.\n",
    "\"\"\"\n",
    "\n",
    "import numpy as np\n",
    "import matplotlib.pyplot as mpl\n",
    "\n",
    "# Problem setup\n",
    "H = 4\n",
    "W = 3\n",
    "F = 2\n",
    "h = 0.1\n",
    "\n",
    "# Boundary Dirichlet Conditions:\n",
    "TOP = 20\n",
    "BOTTOM = 0\n",
    "LEFT = 5\n",
    "RIGHT = 15\n",
    "\n",
    "# Number of unknowns\n",
    "# left, bottom and top sides are known (Dirichlet condition)\n",
    "# right side is unknown (Neumann condition)\n",
    "nh = int(W / h)\n",
    "nv = int(H / h) - 1\n",
    "\n",
    "print(nh, nv)\n",
    "\n",
    "# In this case, the domain is just a rectangle\n",
    "N = nh * nv\n",
    "\n",
    "# We define a function to convert the indices from i,j to k and viceversa\n",
    "# i,j indexes the discrete domain in 2D.\n",
    "# k parametrize those i,j, this way we can tidy the unknowns\n",
    "# in a column vector and use the standard algebra\n",
    "\n",
    "def getK(i,j):\n",
    "    return j * nh + i\n",
    "\n",
    "def getIJ(k):\n",
    "    i = k % nh\n",
    "    j = k // nh\n",
    "    return (i, j)\n",
    "\n",
    "\"\"\"\n",
    "# This code is useful to debug the indexation functions above\n",
    "print(\"=\"*10)\n",
    "print(getK(0,0), getIJ(0))\n",
    "print(getK(1,0), getIJ(1))\n",
    "print(getK(0,1), getIJ(2))\n",
    "print(getK(1,1), getIJ(3))\n",
    "print(\"=\"*10)\n",
    "\n",
    "import sys\n",
    "sys.exit(0)\n",
    "\"\"\"\n",
    "\n",
    "# In this matrix we will write all the coefficients of the unknowns\n",
    "A = np.zeros((N,N))\n",
    "\n",
    "# In this vector we will write all the right side of the equations\n",
    "b = np.zeros((N,))\n",
    "\n",
    "# Note: To write an equation is equivalent to write a row in the matrix system\n",
    "\n",
    "# We iterate over each point inside the domain\n",
    "# Each point has an equation associated\n",
    "# The equation is different depending on the point location inside the domain\n",
    "for i in range(0, nh):\n",
    "    for j in range(0, nv):\n",
    "\n",
    "        # We will write the equation associated with row k\n",
    "        k = getK(i,j)\n",
    "\n",
    "        # We obtain indices of the other coefficients\n",
    "        k_up = getK(i, j+1)\n",
    "        k_down = getK(i, j-1)\n",
    "        k_left = getK(i-1, j)\n",
    "        k_right = getK(i+1, j)\n",
    "\n",
    "        # Depending on the location of the point, the equation is different\n",
    "        # Interior\n",
    "        if 1 <= i and i <= nh - 2 and 1 <= j and j <= nv - 2:\n",
    "            A[k, k_up] = 1\n",
    "            A[k, k_down] = 1\n",
    "            A[k, k_left] = 1\n",
    "            A[k, k_right] = 1\n",
    "            A[k, k] = -4\n",
    "            b[k] = 0\n",
    "        \n",
    "        # left side\n",
    "        elif i == 0 and 1 <= j and j <= nv - 2:\n",
    "            A[k, k_up] = 1\n",
    "            A[k, k_down] = 1\n",
    "            A[k, k_right] = 1\n",
    "            A[k, k] = -4\n",
    "            b[k] = -LEFT\n",
    "        \n",
    "        # right side\n",
    "        elif i == nh - 1 and 1 <= j and j <= nv - 2:\n",
    "            A[k, k_up] = 1\n",
    "            A[k, k_down] = 1\n",
    "            A[k, k_left] = 2\n",
    "            A[k, k] = -4\n",
    "            b[k] = -2 * h * F\n",
    "        \n",
    "        # bottom side\n",
    "        elif 1 <= i and i <= nh - 2 and j == 0:\n",
    "            A[k, k_up] = 1\n",
    "            A[k, k_left] = 1\n",
    "            A[k, k_right] = 1\n",
    "            A[k, k] = -4\n",
    "            b[k] = -BOTTOM\n",
    "        \n",
    "        # top side\n",
    "        elif 1 <= i and i <= nh - 2 and j == nv - 1:\n",
    "            A[k, k_down] = 1\n",
    "            A[k, k_left] = 1\n",
    "            A[k, k_right] = 1\n",
    "            A[k, k] = -4\n",
    "            b[k] = -TOP\n",
    "\n",
    "        # corner lower left\n",
    "        elif (i, j) == (0, 0):\n",
    "            A[k, k] = 1\n",
    "            b[k] = (BOTTOM + LEFT) / 2\n",
    "\n",
    "        # corner lower right\n",
    "        elif (i, j) == (nh - 1, 0):\n",
    "            A[k, k] = 1\n",
    "            b[k] = BOTTOM\n",
    "\n",
    "        # corner upper left\n",
    "        elif (i, j) == (0, nv - 1):\n",
    "            A[k, k] = 1\n",
    "            b[k] = (TOP + LEFT) / 2\n",
    "\n",
    "        # corner upper right\n",
    "        elif (i, j) == (nh - 1, nv - 1):\n",
    "            A[k, k] = 1\n",
    "            b[k] = TOP\n",
    "\n",
    "        else:\n",
    "            print(\"Point (\" + str(i) + \", \" + str(j) + \") missed!\")\n",
    "            print(\"Associated point index is \" + str(k))\n",
    "            raise Exception()\n",
    "\n",
    "\n",
    "# A quick view of a sparse matrix\n",
    "#mpl.spy(A)\n",
    "\n",
    "# Solving our system\n",
    "x = np.linalg.solve(A, b)\n",
    "\n",
    "# Now we return our solution to the 2d discrete domain\n",
    "# In this matrix we will store the solution in the 2d domain\n",
    "u = np.zeros((nh,nv))\n",
    "\n",
    "for k in range(0, N):\n",
    "    i,j = getIJ(k)\n",
    "    u[i,j] = x[k]\n",
    "\n",
    "# Adding the borders, as they have known values\n",
    "ub = np.zeros((nh + 1, nv + 2))\n",
    "ub[1:nh + 1, 1:nv + 1] = u[:,:]\n",
    "\n",
    "# Dirichlet boundary condition\n",
    "# top \n",
    "ub[0:nh + 2, nv + 1] = TOP\n",
    "# bottom \n",
    "ub[0:nh + 2, 0] = BOTTOM\n",
    "# left\n",
    "ub[0, 1:nv + 1] = LEFT\n",
    "\n",
    "# this visualization locates the (0,0) at the lower left corner\n",
    "# given all the references used in this example.\n",
    "fig, ax = mpl.subplots(1,1)\n",
    "pcm = ax.pcolormesh(ub.T, cmap='RdBu_r')\n",
    "fig.colorbar(pcm)\n",
    "ax.set_xlabel('x')\n",
    "ax.set_ylabel('y')\n",
    "ax.set_title('Laplace equation solution.\\n Neumann Condition at the right side.')\n",
    "ax.set_aspect('equal', 'datalim')\n",
    "\n",
    "# Note:\n",
    "# imshow is also valid but it uses another coordinate system,\n",
    "# a data transformation is required\n",
    "#ax.imshow(ub.T)\n",
    "mpl.show()"
   ]
  },
  {
   "cell_type": "code",
   "execution_count": 3,
   "metadata": {},
   "outputs": [
    {
     "name": "stdout",
     "output_type": "stream",
     "text": [
      "30 39\n"
     ]
    },
    {
     "data": {
      "image/png": "[encoded data removed]",
      "text/plain": [
       "<Figure size 432x288 with 2 Axes>"
      ]
     },
     "metadata": {
      "needs_background": "light"
     },
     "output_type": "display_data"
    }
   ],
   "source": [
    "%run ex_finite_differences_laplace_neumann.py"
   ]
  },
  {
   "cell_type": "code",
   "execution_count": 4,
   "metadata": {},
   "outputs": [
    {
     "name": "stdout",
     "output_type": "stream",
     "text": [
      "30 39\n"
     ]
    },
    {
     "data": {
      "image/png": "[encoded data removed]",
      "text/plain": [
       "<Figure size 432x288 with 2 Axes>"
      ]
     },
     "metadata": {
      "needs_background": "light"
     },
     "output_type": "display_data"
    },
    {
     "name": "stdout",
     "output_type": "stream",
     "text": [
      "61\n"
     ]
    }
   ],
   "source": [
    "from ex_finite_differences_laplace_neumann import *\n",
    "\n",
    "print(getK(1, 2))"
   ]
  },
  {
   "cell_type": "markdown",
   "metadata": {},
   "source": [
    "2. Añada gráficos para visualizar la solución como:\n",
    "\n",
    "    1. Superficie\n",
    "    2. Curvas de nivel\n",
    "\n",
    "\n",
    "> Utilice distintas paletas de colores y rotule correctamente cada eje.\n",
    "\n",
    "  _Hint: Guía de Laplace-Dirichlet o revisar los links_\n",
    "  \n",
    "  _[Link](https://matplotlib.org/3.1.0/gallery/mplot3d/surface3d.html)_\n",
    "  \n",
    "  [Link](https://matplotlib.org/3.1.0/api/_as_gen/matplotlib.pyplot.contour.html)\n"
   ]
  },
  {
   "cell_type": "code",
   "execution_count": 3,
   "metadata": {},
   "outputs": [
    {
     "data": {
      "image/png": "[encoded data removed]",
      "text/plain": [
       "<Figure size 432x288 with 1 Axes>"
      ]
     },
     "metadata": {
      "needs_background": "light"
     },
     "output_type": "display_data"
    }
   ],
   "source": [
    "from mpl_toolkits.mplot3d import Axes3D\n",
    "import matplotlib.pyplot as plt\n",
    "from matplotlib import cm\n",
    "from matplotlib.ticker import LinearLocator, FormatStrFormatter\n",
    "import numpy as np\n",
    "\n",
    "fig = plt.figure()\n",
    "ax = fig.gca(projection='3d')\n",
    "\n",
    "# Make data.\n",
    "X = np.arange(0, nh + 1, 1)\n",
    "Y = np.arange(0, nv + 2, 1)\n",
    "X, Y = np.meshgrid(X, Y)\n",
    "Z = ub.T\n",
    "\n",
    "# Plot the surface.\n",
    "surf = ax.plot_surface(X, Y, Z, cmap=cm.coolwarm,\n",
    "                       linewidth=0, antialiased=False)"
   ]
  },
  {
   "cell_type": "code",
   "execution_count": 4,
   "metadata": {},
   "outputs": [
    {
     "data": {
      "text/plain": [
       "Text(0, 0.5, 'y')"
      ]
     },
     "execution_count": 4,
     "metadata": {},
     "output_type": "execute_result"
    },
    {
     "data": {
      "image/png": "[encoded data removed]",
      "text/plain": [
       "<Figure size 432x288 with 1 Axes>"
      ]
     },
     "metadata": {
      "needs_background": "light"
     },
     "output_type": "display_data"
    }
   ],
   "source": [
    "plt.contour(X, Y, Z)\n",
    "plt.xlabel('x')\n",
    "plt.ylabel('y')"
   ]
  },
  {
   "cell_type": "markdown",
   "metadata": {},
   "source": [
    "3.\tModifique el programa para que resuelva el sistema utilizando h = 0.5, 0.1, 0.05. Adjunte gráficos de todas sus soluciones.\n",
    "\n",
    "_Nota: Para espaciados más pequeños se hace necesario utilizar otra forma para guardar las matrices, de ahí sale sparse_\n",
    "\n",
    "_Nota 2: Con h= 0.01 se cae (probablemente)_"
   ]
  },
  {
   "cell_type": "code",
   "execution_count": 7,
   "metadata": {},
   "outputs": [
    {
     "name": "stdout",
     "output_type": "stream",
     "text": [
      "5 7\n",
      "29 39\n",
      "59 79\n"
     ]
    }
   ],
   "source": [
    "def problem(h_p):\n",
    "    # Problem setup\n",
    "    H = 4\n",
    "    W = 3\n",
    "    F = 2\n",
    "\n",
    "    # Boundary Dirichlet Conditions:\n",
    "    TOP = 20\n",
    "    BOTTOM = 0\n",
    "    LEFT = 5\n",
    "    RIGHT = 15\n",
    "\n",
    "    # Number of unknowns\n",
    "    # left, bottom and top sides are known (Dirichlet condition)\n",
    "    # right side is unknown (Neumann condition)\n",
    "    nh_p = int(W / h_p) - 1\n",
    "    nv_p = int(H / h_p) - 1\n",
    "\n",
    "    print(nh_p, nv_p)\n",
    "\n",
    "    # In this case, the domain is just a rectangle\n",
    "    N_p = nh_p * nv_p\n",
    "\n",
    "\n",
    "    # We define a function to convert the indices from i,j to k and viceversa\n",
    "    # i,j indexes the discrete domain in 2D.\n",
    "    # k parametrize those i,j, this way we can tidy the unknowns\n",
    "    # in a column vector and use the standard algebra\n",
    "\n",
    "    def newgetK(i, j):\n",
    "        return j * nh_p + i\n",
    "\n",
    "\n",
    "    def newgetIJ(k):\n",
    "        i = k % nh_p\n",
    "        j = k // nh_p\n",
    "        return (i, j)\n",
    "\n",
    "\n",
    "    \"\"\"\n",
    "    # This code is useful to debug the indexation functions above\n",
    "    print(\"=\"*10)\n",
    "    print(getK(0,0), getIJ(0))\n",
    "    print(getK(1,0), getIJ(1))\n",
    "    print(getK(0,1), getIJ(2))\n",
    "    print(getK(1,1), getIJ(3))\n",
    "    print(\"=\"*10)\n",
    "    \n",
    "    import sys\n",
    "    sys.exit(0)\n",
    "    \"\"\"\n",
    "\n",
    "    # In this matrix we will write all the coefficients of the unknowns\n",
    "    A_p = np.zeros((N_p, N_p))\n",
    "\n",
    "    # In this vector we will write all the right side of the equations\n",
    "    b_p = np.zeros((N_p,))\n",
    "\n",
    "    # Note: To write an equation is equivalent to write a row in the matrix system\n",
    "\n",
    "    # We iterate over each point inside the domain\n",
    "    # Each point has an equation associated\n",
    "    # The equation is different depending on the point location inside the domain\n",
    "    for i in range(0, nh_p):\n",
    "        for j in range(0, nv_p):\n",
    "\n",
    "            # We will write the equation associated with row k\n",
    "            k = newgetK(i, j)\n",
    "\n",
    "            # We obtain indices of the other coefficients\n",
    "            k_up = newgetK(i, j + 1)\n",
    "            k_down = newgetK(i, j - 1)\n",
    "            k_left = newgetK(i - 1, j)\n",
    "            k_right = newgetK(i + 1, j)\n",
    "\n",
    "            # Depending on the location of the point, the equation is different\n",
    "            # Interior\n",
    "            if 1 <= i and i <= nh_p - 2 and 1 <= j and j <= nv_p - 2:\n",
    "                A_p[k, k_up] = 1\n",
    "                A_p[k, k_down] = 1\n",
    "                A_p[k, k_left] = 1\n",
    "                A_p[k, k_right] = 1\n",
    "                A_p[k, k] = -4\n",
    "                b_p[k] = 0\n",
    "\n",
    "                # left side\n",
    "            elif i == 0 and 1 <= j and j <= nv_p - 2:\n",
    "                A_p[k, k_up] = 1\n",
    "                A_p[k, k_down] = 1\n",
    "                A_p[k, k_right] = 1\n",
    "                A_p[k, k] = -4\n",
    "                b_p[k] = -LEFT\n",
    "\n",
    "                # right side\n",
    "            elif i == nh_p - 1 and 1 <= j and j <= nv_p - 2:\n",
    "                A_p[k, k_up] = 1\n",
    "                A_p[k, k_down] = 1\n",
    "                A_p[k, k_left] = 2\n",
    "                A_p[k, k] = -4\n",
    "                b_p[k] = -2 * h_p * F\n",
    "\n",
    "                # bottom side\n",
    "            elif 1 <= i and i <= nh_p - 2 and j == 0:\n",
    "                A_p[k, k_up] = 1\n",
    "                A_p[k, k_left] = 1\n",
    "                A_p[k, k_right] = 1\n",
    "                A_p[k, k] = -4\n",
    "                b_p[k] = -BOTTOM\n",
    "\n",
    "                # top side\n",
    "            elif 1 <= i and i <= nh_p - 2 and j == nv_p - 1:\n",
    "                A_p[k, k_down] = 1\n",
    "                A_p[k, k_left] = 1\n",
    "                A_p[k, k_right] = 1\n",
    "                A_p[k, k] = -4\n",
    "                b_p[k] = -TOP\n",
    "\n",
    "                # corner lower left\n",
    "            elif (i, j) == (0, 0):\n",
    "                A_p[k, k] = 1\n",
    "                b_p[k] = (BOTTOM + LEFT) / 2\n",
    "\n",
    "                # corner lower right\n",
    "            elif (i, j) == (nh_p - 1, 0):\n",
    "                A_p[k, k] = 1\n",
    "                b_p[k] = BOTTOM\n",
    "\n",
    "                # corner upper left\n",
    "            elif (i, j) == (0, nv_p - 1):\n",
    "                A_p[k, k] = 1\n",
    "                b_p[k] = (TOP + LEFT) / 2\n",
    "\n",
    "                # corner upper right\n",
    "            elif (i, j) == (nh_p - 1, nv_p - 1):\n",
    "                A_p[k, k] = 1\n",
    "                b_p[k] = TOP\n",
    "\n",
    "            else:\n",
    "                print(\"Point (\" + str(i) + \", \" + str(j) + \") missed!\")\n",
    "                print(\"Associated point index is \" + str(k))\n",
    "                raise Exception()\n",
    "\n",
    "    # A quick view of a sparse matrix\n",
    "    # mpl.spy(A)\n",
    "\n",
    "    # Solving our system\n",
    "    x_p = np.linalg.solve(A_p, b_p)\n",
    "\n",
    "    # Now we return our solution to the 2d discrete domain\n",
    "    # In this matrix we will store the solution in the 2d domain\n",
    "    u_p = np.zeros((nh_p, nv_p))\n",
    "\n",
    "    for k in range(0, N_p):\n",
    "        i, j = newgetIJ(k)\n",
    "        u_p[i, j] = x_p[k]\n",
    "\n",
    "    # Adding the borders, as they have known values\n",
    "    ub_p = np.zeros((nh_p + 2, nv_p + 2))\n",
    "    ub_p[1:nh_p + 1, 1:nv_p + 1] = u_p[:, :]\n",
    "\n",
    "    # Dirichlet boundary condition\n",
    "    # top\n",
    "    ub_p[0:nh_p + 2, nv_p + 1] = TOP\n",
    "    # bottom\n",
    "    ub_p[0:nh_p + 2, 0] = BOTTOM\n",
    "    # left\n",
    "    ub_p[0, 1:nv_p + 1] = LEFT\n",
    "    # right\n",
    "    ub_p[nh_p + 1, 1:nv_p + 1] = RIGHT\n",
    "\n",
    "    # this visualization locates the (0,0) at the lower left corner\n",
    "    # given all the references used in this example.\n",
    "    \n",
    "    return ub_p\n",
    "\n",
    "res = []\n",
    "hs = [0.5, 0.1, 0.05]\n",
    "for hi in hs:\n",
    "    res.append(problem(hi))\n"
   ]
  },
  {
   "cell_type": "markdown",
   "metadata": {},
   "source": [
    "4.\tUtilizando el módulo time de Python, registre el tiempo que tarda resolver el problema para los espaciados h indicados en el problema anterior. Genere un gráfico que relacione h con el tiempo que se tarda."
   ]
  },
  {
   "cell_type": "code",
   "execution_count": 9,
   "metadata": {},
   "outputs": [
    {
     "name": "stdout",
     "output_type": "stream",
     "text": [
      "5 7\n",
      "29 39\n",
      "59 79\n",
      "Tiempos : [0.000640869140625, 0.039893388748168945, 0.7097339630126953]\n"
     ]
    },
    {
     "data": {
      "text/plain": [
       "[<matplotlib.lines.Line2D at 0x1650a153438>]"
      ]
     },
     "execution_count": 9,
     "metadata": {},
     "output_type": "execute_result"
    },
    {
     "data": {
      "image/png": "[encoded data removed]",
      "text/plain": [
       "<Figure size 432x288 with 1 Axes>"
      ]
     },
     "metadata": {
      "needs_background": "light"
     },
     "output_type": "display_data"
    }
   ],
   "source": [
    "import time\n",
    "\n",
    "times = []\n",
    "for hi in hs:\n",
    "    start = time.time()\n",
    "    problem(hi)\n",
    "    end = time.time()\n",
    "    times.append(end - start)\n",
    "print(\"Tiempos :\", times)\n",
    "plt.plot(hs, times)"
   ]
  },
  {
   "cell_type": "markdown",
   "metadata": {},
   "source": [
    "5.\tModifique el programa para que el problema modelado posea sólo condiciones Dirichlet:\n",
    "    1. Borde superior: 10\n",
    "    2. Borde inferior: 5\n",
    "    3. Borde derecho: 0\n",
    "    4. Borde izquierdo: $f(y)=\\sin(\\pi\\cdot y/H)$\n",
    "    5. Y se mide desde la esquina inferior izquierda hacia arriba.\n",
    "    \n",
    "> Presente su solución utilizando h=0.1"
   ]
  },
  {
   "cell_type": "markdown",
   "metadata": {},
   "source": [
    "_Para esta pregunta se deben reemplazar todas las condiciones de Dirichlet con las mencionadas en el enunciado, para E) en vez de usar la constante, se debe llamar a una función evaluada en la altura del punto_"
   ]
  },
  {
   "cell_type": "markdown",
   "metadata": {},
   "source": [
    "6.\tModifique el programa de ejemplo para que modele la ecuación de Poisson utilizando $f(x,y) = \\cos(x)\\cdot\\sin(y)$"
   ]
  },
  {
   "cell_type": "markdown",
   "metadata": {},
   "source": [
    "_Ahora las ecuaciones deben ser de la forma: (en el interior, para los bordes es similar)_\n",
    "$$U_{i-1, j} + U_{i+1, j} + U_{i, j-1} + U_{i, j+1} - 4\\cdot U_{i, j} = h^2 f_{i, j}$$"
   ]
  },
  {
   "cell_type": "markdown",
   "metadata": {},
   "source": [
    "7.\tVolviendo al programa de ejemplo, modifíquelo para que los espaciados horizontal y vertical sean diferentes. Es decir, su programa debe utilizar un hx y un hy."
   ]
  },
  {
   "cell_type": "markdown",
   "metadata": {},
   "source": [
    "8.\t¿Como cambian sus ecuaciones si el borde izquierdo también posee una condición de Neumann?. Implemente este caso, considerando que el borde izquierdo cumple con la siguiente condición de borde:\n",
    "\n",
    "$$F(y) = \\sin\\left( 2 \\pi \\cdot \\frac{x}{H}\\right)$$\n"
   ]
  },
  {
   "cell_type": "markdown",
   "metadata": {},
   "source": [
    "9.\tModifique el programa de ejemplo para que el dominio representado sea una L con condiciones de borde exclusivamente Dirichlet. Para esto:\n",
    "    1. Será necesario calcular correctamente la cantidad de incógnitas.\n",
    "    2. Reservar memoria para la matriz de coeficientes A y el vector del lado derecho b\n",
    "    3. Generar una indexación del dominio. Esto es, asociar a cada i,j del interior del dominio un índice k. Esto se logra modificando convenientemente las funciones getIJ y getK.\n",
    "    4. Una forma simple de abordar este problema es ir construyendo una tabla a medida que se recorre el dominio. Esta tabla debe almacenar el valor de i y j en cada fila k. De esta forma, dado un k, encontramos los i y j asociados. Y por otro lado, una búsqueda simple le permitirá encontrar la  k dados un i y j.\n",
    "    5. Para generar los gráficos 2D, necesitara asignar un valor a puntos que se encuentran fuera del dominio. Para evitar que matplotlib los grafique, puede utilizar el valor NaN (Not a Number)."
   ]
  },
  {
   "cell_type": "markdown",
   "metadata": {},
   "source": [
    "##### Si usted realizó exitosamente todas las actividades anteriores: ¡Felicitaciones!, ¡es un experto en diferencias finitas!."
   ]
  },
  {
   "cell_type": "code",
   "execution_count": 6,
   "metadata": {},
   "outputs": [
    {
     "data": {
      "text/html": [
       "<center><img src=\"https://media.giphy.com/media/3o8doT9BL7dgtolp7O/giphy.gif\"></center>"
      ],
      "text/plain": [
       "<IPython.core.display.HTML object>"
      ]
     },
     "execution_count": 6,
     "metadata": {},
     "output_type": "execute_result"
    }
   ],
   "source": [
    "HTML('<center><img src=\"https://media.giphy.com/media/3o8doT9BL7dgtolp7O/giphy.gif\"></center>')\n"
   ]
  },
  {
   "cell_type": "markdown",
   "metadata": {},
   "source": [
    "Hints:\n",
    "-\tmatplotlib.pyplot.spy permite visualizar rápidamente el contenido de una matriz esparsa\n"
   ]
  }
 ],
 "metadata": {
  "kernelspec": {
   "display_name": "Python 3",
   "language": "python",
   "name": "python3"
  },
  "language_info": {
   "codemirror_mode": {
    "name": "ipython",
    "version": 3
   },
   "file_extension": ".py",
   "mimetype": "text/x-python",
   "name": "python",
   "nbconvert_exporter": "python",
   "pygments_lexer": "ipython3",
   "version": "3.7.3"
  }
 },
 "nbformat": 4,
 "nbformat_minor": 2
}
